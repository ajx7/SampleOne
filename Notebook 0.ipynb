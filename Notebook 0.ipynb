{
    "cells": [
        {
            "cell_type": "markdown",
            "metadata": {},
            "source": "Explores Batsman stats"
        },
        {
            "cell_type": "code",
            "execution_count": 1,
            "metadata": {},
            "outputs": [
                {
                    "data": {
                        "text/html": "<div>\n<style scoped>\n    .dataframe tbody tr th:only-of-type {\n        vertical-align: middle;\n    }\n\n    .dataframe tbody tr th {\n        vertical-align: top;\n    }\n\n    .dataframe thead th {\n        text-align: right;\n    }\n</style>\n<table border=\"1\" class=\"dataframe\">\n  <thead>\n    <tr style=\"text-align: right;\">\n      <th></th>\n      <th>Player</th>\n      <th>Country</th>\n      <th>Confedration</th>\n      <th>Matches</th>\n      <th>Innings</th>\n      <th>Not Ouis</th>\n      <th>Runs</th>\n      <th>Highest Score</th>\n      <th>Average</th>\n      <th>Ball Faced</th>\n      <th>Strike Rate</th>\n      <th>Centuries</th>\n      <th>Half Centuries</th>\n      <th>Golden Duck</th>\n      <th>Boundaries</th>\n      <th>Maximum</th>\n    </tr>\n  </thead>\n  <tbody>\n    <tr>\n      <th>0</th>\n      <td>RG Sharma</td>\n      <td>IND</td>\n      <td>ACC</td>\n      <td>9</td>\n      <td>9</td>\n      <td>1</td>\n      <td>648</td>\n      <td>140</td>\n      <td>81.00</td>\n      <td>659</td>\n      <td>98.33</td>\n      <td>5</td>\n      <td>1</td>\n      <td>0</td>\n      <td>67</td>\n      <td>14</td>\n    </tr>\n    <tr>\n      <th>1</th>\n      <td>DA Warner</td>\n      <td>AUS</td>\n      <td>EAP</td>\n      <td>10</td>\n      <td>10</td>\n      <td>1</td>\n      <td>647</td>\n      <td>166</td>\n      <td>71.88</td>\n      <td>724</td>\n      <td>89.36</td>\n      <td>3</td>\n      <td>3</td>\n      <td>0</td>\n      <td>66</td>\n      <td>8</td>\n    </tr>\n    <tr>\n      <th>2</th>\n      <td>Shakib Al Hasan</td>\n      <td>BDESH</td>\n      <td>ACC</td>\n      <td>8</td>\n      <td>8</td>\n      <td>1</td>\n      <td>606</td>\n      <td>124*</td>\n      <td>86.57</td>\n      <td>631</td>\n      <td>96.03</td>\n      <td>2</td>\n      <td>5</td>\n      <td>0</td>\n      <td>60</td>\n      <td>2</td>\n    </tr>\n    <tr>\n      <th>3</th>\n      <td>KS Williamson</td>\n      <td>NZL</td>\n      <td>EAP</td>\n      <td>10</td>\n      <td>9</td>\n      <td>2</td>\n      <td>578</td>\n      <td>148</td>\n      <td>82.57</td>\n      <td>771</td>\n      <td>74.96</td>\n      <td>2</td>\n      <td>2</td>\n      <td>0</td>\n      <td>50</td>\n      <td>3</td>\n    </tr>\n    <tr>\n      <th>4</th>\n      <td>JE Root</td>\n      <td>ENG</td>\n      <td>ECC</td>\n      <td>11</td>\n      <td>11</td>\n      <td>2</td>\n      <td>556</td>\n      <td>107</td>\n      <td>61.77</td>\n      <td>621</td>\n      <td>89.53</td>\n      <td>2</td>\n      <td>3</td>\n      <td>0</td>\n      <td>48</td>\n      <td>2</td>\n    </tr>\n  </tbody>\n</table>\n</div>",
                        "text/plain": "            Player Country Confedration  Matches  Innings  Not Ouis  Runs  \\\n0        RG Sharma     IND          ACC        9        9         1   648   \n1        DA Warner     AUS          EAP       10       10         1   647   \n2  Shakib Al Hasan   BDESH          ACC        8        8         1   606   \n3    KS Williamson     NZL          EAP       10        9         2   578   \n4         JE Root      ENG          ECC       11       11         2   556   \n\n  Highest Score  Average  Ball Faced  Strike Rate  Centuries  Half Centuries  \\\n0           140    81.00         659        98.33          5               1   \n1           166    71.88         724        89.36          3               3   \n2          124*    86.57         631        96.03          2               5   \n3           148    82.57         771        74.96          2               2   \n4           107    61.77         621        89.53          2               3   \n\n   Golden Duck  Boundaries  Maximum  \n0            0          67       14  \n1            0          66        8  \n2            0          60        2  \n3            0          50        3  \n4            0          48        2  "
                    },
                    "execution_count": 1,
                    "metadata": {},
                    "output_type": "execute_result"
                }
            ],
            "source": "# The code was removed by Watson Studio for sharing."
        },
        {
            "cell_type": "code",
            "execution_count": null,
            "metadata": {},
            "outputs": [],
            "source": ""
        }
    ],
    "metadata": {
        "kernelspec": {
            "display_name": "Python 3.6",
            "language": "python",
            "name": "python3"
        },
        "language_info": {
            "codemirror_mode": {
                "name": "ipython",
                "version": 3
            },
            "file_extension": ".py",
            "mimetype": "text/x-python",
            "name": "python",
            "nbconvert_exporter": "python",
            "pygments_lexer": "ipython3",
            "version": "3.6.9"
        }
    },
    "nbformat": 4,
    "nbformat_minor": 1
}